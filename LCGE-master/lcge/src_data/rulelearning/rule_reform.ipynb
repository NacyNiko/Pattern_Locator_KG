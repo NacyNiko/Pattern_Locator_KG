{
 "cells": [
  {
   "cell_type": "code",
   "execution_count": null,
   "metadata": {},
   "outputs": [],
   "source": [
    "f = open(\"./ICEWS05-15/amie_rules_static.txt\", 'r')\n",
    "rule_1 = []\n",
    "rule_2 = []\n",
    "\n",
    "for line in f:\n",
    "    r_b, r_h = line.split(\"=>\")\n",
    "    body_list = r_b.split(\"  \")\n",
    "    head_list = r_h.split(\"  \")\n",
    "    he1 = head_list[0].strip()\n",
    "    hr = head_list[1]\n",
    "    he2 = head_list[2].split(\"\\t\")[0]\n",
    "    if len(body_list) == 4:\n",
    "        e1, r1, e2, _ = body_list\n",
    "        rule_1.append(e1 + \"\\t\" + r1 + \"\\t\" + e2 + \"\\t=>\\t\" + he1 + \"\\t\" + hr + \"\\t\" + he2 +\"\\n\")\n",
    "    else:\n",
    "        e1, r1, e2, e3, r2, e4, _ = body_list\n",
    "        rule_2.append(e1 + \"\\t\" + r1 + \"\\t\" + e2 + \"\\t\" + e3 + \"\\t\" + r2 + \"\\t\" + e4 + \"\\t=>\\t\" + he1 + \"\\t\" + hr + \"\\t\" + he2 +\"\\n\")\n",
    "f.close()\n",
    "\n",
    "f_save = open(\"./ICEWS05-15/ruleslen1_static.txt\", 'w')\n",
    "for rule in rule_1:\n",
    "    f_save.write(rule)\n",
    "f_save.close()\n",
    "\n",
    "f_save = open(\"./ICEWS05-15/ruleslen2_static.txt\", 'w')\n",
    "for rule in rule_2:\n",
    "    f_save.write(rule)\n",
    "f_save.close()"
   ]
  },
  {
   "cell_type": "code",
   "execution_count": null,
   "metadata": {},
   "outputs": [],
   "source": [
    "f = open(\"./ICEWS14/rules.txt\", 'r')\n",
    "rule_1 = []\n",
    "rule_2 = []\n",
    "\n",
    "for line in f:\n",
    "    r_b, r_h = line.split(\"=>\")\n",
    "    body_list = r_b.split(\"  \")\n",
    "    head_list = r_h.split(\"  \")\n",
    "    he1 = head_list[0].strip()\n",
    "    hr = head_list[1]\n",
    "    he2 = head_list[2].split(\"\\t\")[0]\n",
    "    if len(body_list) == 4:\n",
    "        e1, r1, e2, _ = body_list\n",
    "        rule_1.append(e1 + \"\\t\" + r1 + \"\\t\" + e2 + \"\\t=>\\t\" + he1 + \"\\t\" + hr + \"\\t\" + he2 +\"\\n\")\n",
    "    else:\n",
    "        e1, r1, e2, e3, r2, e4, _ = body_list\n",
    "        rule_2.append(e1 + \"\\t\" + r1 + \"\\t\" + e2 + \"\\t\" + e3 + \"\\t\" + r2 + \"\\t\" + e4 + \"\\t=>\\t\" + he1 + \"\\t\" + hr + \"\\t\" + he2 +\"\\n\")\n",
    "f.close()\n",
    "\n",
    "f_save = open(\"./ICEWS14/ruleslen1_static.txt\", 'w')\n",
    "for rule in rule_1:\n",
    "    f_save.write(rule)\n",
    "f_save.close()\n",
    "\n",
    "f_save = open(\"./ICEWS14/ruleslen2_static.txt\", 'w')\n",
    "for rule in rule_2:\n",
    "    f_save.write(rule)\n",
    "f_save.close()"
   ]
  }
 ],
 "metadata": {
  "kernelspec": {
   "display_name": "Python 3 (ipykernel)",
   "language": "python",
   "name": "python3"
  },
  "language_info": {
   "codemirror_mode": {
    "name": "ipython",
    "version": 3
   },
   "file_extension": ".py",
   "mimetype": "text/x-python",
   "name": "python",
   "nbconvert_exporter": "python",
   "pygments_lexer": "ipython3",
   "version": "3.9.12"
  }
 },
 "nbformat": 4,
 "nbformat_minor": 2
}
