{
 "cells": [
  {
   "cell_type": "code",
   "execution_count": 1,
   "metadata": {},
   "outputs": [
    {
     "ename": "FileNotFoundError",
     "evalue": "[Errno 2] No such file or directory: '../rulelearning/ICEWS15/triples.tsv'",
     "output_type": "error",
     "traceback": [
      "\u001b[1;31m---------------------------------------------------------------------------\u001b[0m",
      "\u001b[1;31mFileNotFoundError\u001b[0m                         Traceback (most recent call last)",
      "Input \u001b[1;32mIn [1]\u001b[0m, in \u001b[0;36m<cell line: 14>\u001b[1;34m()\u001b[0m\n\u001b[0;32m     11\u001b[0m     triple\u001b[38;5;241m.\u001b[39mappend(e1 \u001b[38;5;241m+\u001b[39m \u001b[38;5;124m\"\u001b[39m\u001b[38;5;130;01m\\t\u001b[39;00m\u001b[38;5;124m\"\u001b[39m \u001b[38;5;241m+\u001b[39m r \u001b[38;5;241m+\u001b[39m \u001b[38;5;124m\"\u001b[39m\u001b[38;5;130;01m\\t\u001b[39;00m\u001b[38;5;124m\"\u001b[39m \u001b[38;5;241m+\u001b[39m e2 \u001b[38;5;241m+\u001b[39m \u001b[38;5;124m\"\u001b[39m\u001b[38;5;130;01m\\n\u001b[39;00m\u001b[38;5;124m\"\u001b[39m)\n\u001b[0;32m     12\u001b[0m f\u001b[38;5;241m.\u001b[39mclose()\n\u001b[1;32m---> 14\u001b[0m f_save \u001b[38;5;241m=\u001b[39m \u001b[38;5;28;43mopen\u001b[39;49m\u001b[43m(\u001b[49m\u001b[38;5;124;43m\"\u001b[39;49m\u001b[38;5;124;43m../rulelearning/ICEWS15/triples.tsv\u001b[39;49m\u001b[38;5;124;43m\"\u001b[39;49m\u001b[43m,\u001b[49m\u001b[43m \u001b[49m\u001b[38;5;124;43m'\u001b[39;49m\u001b[38;5;124;43mw\u001b[39;49m\u001b[38;5;124;43m'\u001b[39;49m\u001b[43m,\u001b[49m\u001b[43m \u001b[49m\u001b[43mencoding\u001b[49m\u001b[38;5;241;43m=\u001b[39;49m\u001b[38;5;124;43m'\u001b[39;49m\u001b[38;5;124;43mutf-8\u001b[39;49m\u001b[38;5;124;43m'\u001b[39;49m\u001b[43m)\u001b[49m\n\u001b[0;32m     15\u001b[0m count \u001b[38;5;241m=\u001b[39m \u001b[38;5;241m0\u001b[39m\n\u001b[0;32m     16\u001b[0m \u001b[38;5;28;01mfor\u001b[39;00m tri \u001b[38;5;129;01min\u001b[39;00m triple:\n",
      "\u001b[1;31mFileNotFoundError\u001b[0m: [Errno 2] No such file or directory: '../rulelearning/ICEWS15/triples.tsv'"
     ]
    }
   ],
   "source": [
    "f = open(\"../../src_data/ICEWS05-15/train\", encoding='utf-8')\n",
    "triple = []\n",
    "for line in f:\n",
    "    e1, r, e2, time = line.split(\"\\t\")\n",
    "    triple.append(e1 + \"\\t\" + r + \"\\t\" + e2 + \"\\n\")\n",
    "f.close()\n",
    "\n",
    "f = open(\"../../src_data/ICEWS05-15/valid\", encoding='utf-8')\n",
    "for line in f:\n",
    "    e1, r, e2, time = line.split(\"\\t\")\n",
    "    triple.append(e1 + \"\\t\" + r + \"\\t\" + e2 + \"\\n\")\n",
    "f.close()\n",
    "\n",
    "f_save = open(\"../rulelearning/ICEWS15/triples.tsv\", 'w', encoding='utf-8')\n",
    "count = 0\n",
    "for tri in triple:\n",
    "    f_save.write(tri)\n",
    "    count += 1\n",
    "print(\"the amount of triples is:\\t\", count)\n",
    "f_save.close()"
   ]
  },
  {
   "cell_type": "code",
   "execution_count": null,
   "metadata": {},
   "outputs": [],
   "source": [
    "f = open(\"../../src_data/ICEWS14/train\")\n",
    "triple = []\n",
    "for line in f:\n",
    "    e1, r, e2, start, end = line.split(\"\\t\")\n",
    "    triple.append(e1 + \"\\t\" + r + \"\\t\" + e2 + \"\\n\")\n",
    "f.close()\n",
    "\n",
    "f = open(\"../../src_data/ICEWS14/valid\")\n",
    "for line in f:\n",
    "    e1, r, e2, _, _ = line.split(\"\\t\")\n",
    "    triple.append(e1 + \"\\t\" + r + \"\\t\" + e2 + \"\\n\")\n",
    "f.close()\n",
    "\n",
    "f_save = open(\"../rulelearning/ICEWS14/triples.tsv\", 'w')\n",
    "count = 0\n",
    "for tri in triple:\n",
    "    f_save.write(tri)\n",
    "    count += 1\n",
    "print(\"the amount of triples is:\\t\", count)\n",
    "f_save.close()"
   ]
  }
 ],
 "metadata": {
  "kernelspec": {
   "display_name": "Python 3 (ipykernel)",
   "language": "python",
   "name": "python3"
  },
  "language_info": {
   "codemirror_mode": {
    "name": "ipython",
    "version": 3
   },
   "file_extension": ".py",
   "mimetype": "text/x-python",
   "name": "python",
   "nbconvert_exporter": "python",
   "pygments_lexer": "ipython3",
   "version": "3.9.12"
  }
 },
 "nbformat": 4,
 "nbformat_minor": 2
}
